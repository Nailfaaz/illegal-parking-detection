{
 "cells": [
  {
   "cell_type": "code",
   "execution_count": 2,
   "id": "efba117e",
   "metadata": {},
   "outputs": [
    {
     "name": "stdout",
     "output_type": "stream",
     "text": [
      "Start time: 3000 seconds\n",
      "End time: 3600 seconds\n",
      "Duration: 600 seconds\n",
      "Loading video: ../dataset/video_1.mov\n",
      "Original video duration: 11780.33 seconds\n",
      "Cutting from 3000s to 3600s...\n",
      "Cut video duration: 600.00 seconds\n",
      "Saving to: ../dataset/video_1_cut.mov\n",
      "MoviePy - Building video ../dataset/video_1_cut.mov.\n",
      "MoviePy - Writing audio in video_1_cutTEMP_MPY_wvf_snd.mp4\n"
     ]
    },
    {
     "name": "stderr",
     "output_type": "stream",
     "text": [
      "                                                                        \r"
     ]
    },
    {
     "name": "stdout",
     "output_type": "stream",
     "text": [
      "MoviePy - Done.\n",
      "MoviePy - Writing video ../dataset/video_1_cut.mov\n",
      "\n"
     ]
    },
    {
     "name": "stderr",
     "output_type": "stream",
     "text": [
      "                                                                             \r"
     ]
    },
    {
     "name": "stdout",
     "output_type": "stream",
     "text": [
      "MoviePy - Done !\n",
      "MoviePy - video ready ../dataset/video_1_cut.mov\n",
      "Video cut successfully!\n",
      "\n",
      "Done! Check '../dataset/video_1_cut.mov' for the result.\n"
     ]
    }
   ],
   "source": [
    "from moviepy import *\n",
    "import os\n",
    "\n",
    "def cut_video(input_file, output_file, start_time, end_time):\n",
    "    \"\"\"\n",
    "    Cut a video from start_time to end_time using MoviePy\n",
    "    \n",
    "    Args:\n",
    "        input_file (str): Path to input video file\n",
    "        output_file (str): Path to output video file\n",
    "        start_time (int): Start time in seconds\n",
    "        end_time (int): End time in seconds\n",
    "    \"\"\"\n",
    "    \n",
    "    # Check if input file exists\n",
    "    if not os.path.exists(input_file):\n",
    "        print(f\"Error: Input file '{input_file}' not found!\")\n",
    "        return False\n",
    "    \n",
    "    try:\n",
    "        print(f\"Loading video: {input_file}\")\n",
    "        \n",
    "        # Load the video\n",
    "        video = VideoFileClip(input_file)\n",
    "        \n",
    "        print(f\"Original video duration: {video.duration:.2f} seconds\")\n",
    "        print(f\"Cutting from {start_time}s to {end_time}s...\")\n",
    "        \n",
    "        # Cut the video using slice notation\n",
    "        cut_video = video[start_time:end_time]\n",
    "        \n",
    "        print(f\"Cut video duration: {cut_video.duration:.2f} seconds\")\n",
    "        print(f\"Saving to: {output_file}\")\n",
    "        \n",
    "        # Write the result to file\n",
    "        cut_video.write_videofile(\n",
    "            output_file,\n",
    "            codec='libx264',    # Video codec\n",
    "            audio_codec='aac'   # Audio codec\n",
    "        )\n",
    "        \n",
    "        # Clean up\n",
    "        video.close()\n",
    "        cut_video.close()\n",
    "        \n",
    "        print(\"Video cut successfully!\")\n",
    "        return True\n",
    "        \n",
    "    except Exception as e:\n",
    "        print(f\"Error: {str(e)}\")\n",
    "        return False\n",
    "\n",
    "# Convert time format MM:SS to seconds\n",
    "def time_to_seconds(time_str):\n",
    "    \"\"\"Convert MM:SS or HH:MM:SS to seconds\"\"\"\n",
    "    parts = time_str.split(':')\n",
    "    if len(parts) == 2:  # MM:SS\n",
    "        return int(parts[0]) * 60 + int(parts[1])\n",
    "    elif len(parts) == 3:  # HH:MM:SS\n",
    "        return int(parts[0]) * 3600 + int(parts[1]) * 60 + int(parts[2])\n",
    "    else:\n",
    "        raise ValueError(\"Invalid time format. Use MM:SS or HH:MM:SS\")\n",
    "\n",
    "# Main execution\n",
    "if __name__ == \"__main__\":\n",
    "    # Input parameters\n",
    "    input_video = \"../dataset/video_1.mov\"\n",
    "    output_video = \"../dataset/video_1_cut.mov\"\n",
    "    \n",
    "    # Convert time to seconds\n",
    "    start_time = time_to_seconds(\"50:00\") \n",
    "    end_time = time_to_seconds(\"01:00:00\")\n",
    "    \n",
    "    print(f\"Start time: {start_time} seconds\")\n",
    "    print(f\"End time: {end_time} seconds\")\n",
    "    print(f\"Duration: {end_time - start_time} seconds\")\n",
    "    \n",
    "    # Cut the video\n",
    "    success = cut_video(input_video, output_video, start_time, end_time)\n",
    "    \n",
    "    if success:\n",
    "        print(f\"\\nDone! Check '{output_video}' for the result.\")\n",
    "    else:\n",
    "        print(\"\\nFailed to cut video. Please check the error messages above.\")"
   ]
  },
  {
   "cell_type": "code",
   "execution_count": null,
   "id": "ae7eec7b",
   "metadata": {},
   "outputs": [],
   "source": []
  }
 ],
 "metadata": {
  "kernelspec": {
   "display_name": ".venv",
   "language": "python",
   "name": "python3"
  },
  "language_info": {
   "codemirror_mode": {
    "name": "ipython",
    "version": 3
   },
   "file_extension": ".py",
   "mimetype": "text/x-python",
   "name": "python",
   "nbconvert_exporter": "python",
   "pygments_lexer": "ipython3",
   "version": "3.12.7"
  }
 },
 "nbformat": 4,
 "nbformat_minor": 5
}
